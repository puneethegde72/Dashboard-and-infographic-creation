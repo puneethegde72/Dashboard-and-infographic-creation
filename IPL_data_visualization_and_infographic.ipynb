{
  "nbformat": 4,
  "nbformat_minor": 0,
  "metadata": {
    "colab": {
      "provenance": [],
      "authorship_tag": "ABX9TyPNPnjIujkWnIEovHLPVAlJ",
      "include_colab_link": true
    },
    "kernelspec": {
      "name": "python3",
      "display_name": "Python 3"
    },
    "language_info": {
      "name": "python"
    }
  },
  "cells": [
    {
      "cell_type": "markdown",
      "metadata": {
        "id": "view-in-github",
        "colab_type": "text"
      },
      "source": [
        "<a href=\"https://colab.research.google.com/github/puneethegde72/Dashboard-and-infographic-creation/blob/main/IPL_data_visualization_and_infographic.ipynb\" target=\"_parent\"><img src=\"https://colab.research.google.com/assets/colab-badge.svg\" alt=\"Open In Colab\"/></a>"
      ]
    },
    {
      "cell_type": "code",
      "execution_count": 10,
      "metadata": {
        "id": "tgwn3gpDN00I"
      },
      "outputs": [],
      "source": [
        "import pandas as pd\n",
        "import matplotlib.pyplot as plt\n",
        "\n"
      ]
    },
    {
      "cell_type": "code",
      "source": [
        "# importing the dataset\n",
        "df = pd.read_csv(\"matches.csv\")\n",
        "print(df.dtypes)"
      ],
      "metadata": {
        "colab": {
          "base_uri": "https://localhost:8080/"
        },
        "id": "YjSpBsebOKrn",
        "outputId": "77f8327c-668f-44ba-f397-b905ac1b4bf3"
      },
      "execution_count": 12,
      "outputs": [
        {
          "output_type": "stream",
          "name": "stdout",
          "text": [
            "id                  int64\n",
            "Season             object\n",
            "city               object\n",
            "date               object\n",
            "team1              object\n",
            "team2              object\n",
            "toss_winner        object\n",
            "toss_decision      object\n",
            "result             object\n",
            "dl_applied          int64\n",
            "winner             object\n",
            "win_by_runs         int64\n",
            "win_by_wickets      int64\n",
            "player_of_match    object\n",
            "venue              object\n",
            "umpire1            object\n",
            "umpire2            object\n",
            "umpire3            object\n",
            "dtype: object\n"
          ]
        }
      ]
    },
    {
      "cell_type": "code",
      "source": [
        "# data cleansing\n",
        "df.loc[df['team1'] == \"Rising Pune Supergiants\", 'team1'] = \"Rising Pune Supergiant\"\n",
        "df.loc[df['team2'] == \"Rising Pune Supergiants\", 'team2'] = \"Rising Pune Supergiant\"\n",
        "df.loc[df['team1'] == \"Pune Warriors\", 'team1'] = \"Rising Pune Supergiant\"\n",
        "df.loc[df['team2'] == \"Pune Warriors\", 'team2'] = \"Rising Pune Supergiant\"\n",
        "df.loc[df['team1'] == \"Deccan Chargers\", 'team1'] = \"Sunrisers Hyderabad\"\n",
        "df.loc[df['team2'] == \"Deccan Chargers\", 'team2'] = \"Sunrisers Hyderabad\"\n",
        "df.loc[df['winner'] == \"Rising Pune Supergiants\", 'winner'] = \"Rising Pune Supergiant\"\n",
        "df.loc[df['winner'] == \"Pune Warriors\", 'winner'] = \"Rising Pune Supergiant\"\n",
        "df.loc[df['winner'] == \"Deccan Chargers\", 'winner'] = \"Sunrisers Hyderabad\"\n",
        "df.loc[df['winner'] == \"Delhi Daredevils\", 'winner'] = \"Delhi Capitals\"\n",
        "\n",
        "# removing the rows == no result\n",
        "df1 = df[df.result != \"no result\"]"
      ],
      "metadata": {
        "id": "BBux3Q_BOLY8"
      },
      "execution_count": 13,
      "outputs": []
    },
    {
      "cell_type": "code",
      "source": [
        "# IPL titles won\n",
        "index = [\"IPL-2008\", \"IPL-2009\", \"IPL-2010\", \"IPL-2011\", \"IPL-2012\", \"IPL-2013\", \"IPL-2014\", \"IPL-2015\",\n",
        "         \"IPL-2016\", \"IPL-2017\", \"IPL-2018\", \"IPL-2019\"]\n",
        "ipl_titles = [\"RR\", \"SRH\", \"CSK\", \"CSK\", \"KKR\", \"MI\", \"KKR\", \"MI\", \"SRH\", \"MI\", \"CSK\", \"MI\"]\n"
      ],
      "metadata": {
        "id": "0yv71zDYOaYV"
      },
      "execution_count": 14,
      "outputs": []
    },
    {
      "cell_type": "code",
      "source": [
        "count = pd.Series(ipl_titles).value_counts().sort_values(ascending=False)"
      ],
      "metadata": {
        "id": "0OSBqJH5Ovze"
      },
      "execution_count": 15,
      "outputs": []
    },
    {
      "cell_type": "code",
      "source": [
        "plt.bar(count.index, count.values, color=[\"#FFC107\", \"#2196F3\", \"#8BC34A\", \"#673AB7\", \"#F44336\"])\n",
        "plt.xlabel(\"Teams\")\n",
        "plt.ylabel(\"No of Times\")\n",
        "plt.title(\"IPL TITLES WON\")\n",
        "plt.show()"
      ],
      "metadata": {
        "colab": {
          "base_uri": "https://localhost:8080/",
          "height": 472
        },
        "id": "c_wXzMY-Pyip",
        "outputId": "2fafc645-ca45-4787-a7fd-d3f2b2e75f5b"
      },
      "execution_count": 16,
      "outputs": [
        {
          "output_type": "display_data",
          "data": {
            "text/plain": [
              "<Figure size 640x480 with 1 Axes>"
            ],
            "image/png": "[encoded data removed]"
          },
          "metadata": {}
        }
      ]
    },
    {
      "cell_type": "code",
      "source": [],
      "metadata": {
        "id": "WgzwudxfTwgS"
      },
      "execution_count": null,
      "outputs": []
    }
  ]
}