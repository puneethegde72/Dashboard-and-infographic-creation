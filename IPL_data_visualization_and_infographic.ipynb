{
  "nbformat": 4,
  "nbformat_minor": 0,
  "metadata": {
    "colab": {
      "provenance": [],
      "authorship_tag": "ABX9TyMvC/fHn2Iwj0b1QqlUUtSh",
      "include_colab_link": true
    },
    "kernelspec": {
      "name": "python3",
      "display_name": "Python 3"
    },
    "language_info": {
      "name": "python"
    }
  },
  "cells": [
    {
      "cell_type": "markdown",
      "metadata": {
        "id": "view-in-github",
        "colab_type": "text"
      },
      "source": [
        "<a href=\"https://colab.research.google.com/github/puneethegde72/Dashboard-and-infographic-creation/blob/main/IPL_data_visualization_and_infographic.ipynb\" target=\"_parent\"><img src=\"https://colab.research.google.com/assets/colab-badge.svg\" alt=\"Open In Colab\"/></a>"
      ]
    },
    {
      "cell_type": "code",
      "execution_count": 1,
      "metadata": {
        "id": "tgwn3gpDN00I"
      },
      "outputs": [],
      "source": [
        "import pandas as pd\n",
        "import matplotlib.pyplot as plt\n",
        "import numpy as np\n",
        "from matplotlib.gridspec import GridSpec"
      ]
    },
    {
      "cell_type": "code",
      "source": [
        "# importing the dataset\n",
        "df = pd.read_csv(\"matches.csv\")\n",
        "print(df.dtypes)"
      ],
      "metadata": {
        "colab": {
          "base_uri": "https://localhost:8080/"
        },
        "id": "YjSpBsebOKrn",
        "outputId": "d0c1228a-7bbc-4459-ca61-45ed68e05d7d"
      },
      "execution_count": 2,
      "outputs": [
        {
          "output_type": "stream",
          "name": "stdout",
          "text": [
            "id                  int64\n",
            "Season             object\n",
            "city               object\n",
            "date               object\n",
            "team1              object\n",
            "team2              object\n",
            "toss_winner        object\n",
            "toss_decision      object\n",
            "result             object\n",
            "dl_applied          int64\n",
            "winner             object\n",
            "win_by_runs         int64\n",
            "win_by_wickets      int64\n",
            "player_of_match    object\n",
            "venue              object\n",
            "umpire1            object\n",
            "umpire2            object\n",
            "umpire3            object\n",
            "dtype: object\n"
          ]
        }
      ]
    },
    {
      "cell_type": "code",
      "source": [
        "# data cleansing\n",
        "df.loc[df['team1'] == \"Rising Pune Supergiants\", 'team1'] = \"Rising Pune Supergiant\"\n",
        "df.loc[df['team2'] == \"Rising Pune Supergiants\", 'team2'] = \"Rising Pune Supergiant\"\n",
        "df.loc[df['team1'] == \"Pune Warriors\", 'team1'] = \"Rising Pune Supergiant\"\n",
        "df.loc[df['team2'] == \"Pune Warriors\", 'team2'] = \"Rising Pune Supergiant\"\n",
        "df.loc[df['team1'] == \"Deccan Chargers\", 'team1'] = \"Sunrisers Hyderabad\"\n",
        "df.loc[df['team2'] == \"Deccan Chargers\", 'team2'] = \"Sunrisers Hyderabad\"\n",
        "df.loc[df['winner'] == \"Rising Pune Supergiants\", 'winner'] = \"Rising Pune Supergiant\"\n",
        "df.loc[df['winner'] == \"Pune Warriors\", 'winner'] = \"Rising Pune Supergiant\"\n",
        "df.loc[df['winner'] == \"Deccan Chargers\", 'winner'] = \"Sunrisers Hyderabad\"\n",
        "df.loc[df['winner'] == \"Delhi Daredevils\", 'winner'] = \"Delhi Capitals\"\n",
        "\n",
        "# removing the rows == no result\n",
        "df1 = df[df.result != \"no result\"]"
      ],
      "metadata": {
        "id": "BBux3Q_BOLY8"
      },
      "execution_count": 3,
      "outputs": []
    },
    {
      "cell_type": "code",
      "source": [
        "# IPL titles won\n",
        "index = [\"IPL-2008\", \"IPL-2009\", \"IPL-2010\", \"IPL-2011\", \"IPL-2012\", \"IPL-2013\", \"IPL-2014\", \"IPL-2015\",\n",
        "         \"IPL-2016\", \"IPL-2017\", \"IPL-2018\", \"IPL-2019\"]\n",
        "ipl_titles = [\"RR\", \"SRH\", \"CSK\", \"CSK\", \"KKR\", \"MI\", \"KKR\", \"MI\", \"SRH\", \"MI\", \"CSK\", \"MI\"]\n"
      ],
      "metadata": {
        "id": "0yv71zDYOaYV"
      },
      "execution_count": 4,
      "outputs": []
    },
    {
      "cell_type": "code",
      "source": [
        "count = pd.Series(ipl_titles).value_counts().sort_values(ascending=False)"
      ],
      "metadata": {
        "id": "0OSBqJH5Ovze"
      },
      "execution_count": 5,
      "outputs": []
    },
    {
      "cell_type": "code",
      "source": [
        "# Create the figure and GridSpec layout\n",
        "fig = plt.figure(figsize=(12, 10))\n",
        "gs = GridSpec(3, 3, figure=fig)"
      ],
      "metadata": {
        "colab": {
          "base_uri": "https://localhost:8080/",
          "height": 34
        },
        "id": "NmjOsndDrXKj",
        "outputId": "a4384f29-e606-4eee-ea2c-673e72382967"
      },
      "execution_count": 6,
      "outputs": [
        {
          "output_type": "display_data",
          "data": {
            "text/plain": [
              "<Figure size 1200x1000 with 0 Axes>"
            ]
          },
          "metadata": {}
        }
      ]
    },
    {
      "cell_type": "code",
      "source": [
        "ax1 = fig.add_subplot(gs[0, 0])\n",
        "ax1.bar(count.index, count.values, color=[\"#FFC107\", \"#2196F3\", \"#8BC34A\", \"#673AB7\", \"#F44336\"])\n",
        "ax1.set_xlabel(\"Teams\")\n",
        "ax1.set_ylabel(\"No of Times\")\n",
        "ax1.set_title(\"IPL TITLES WON\")\n",
        "plt.show()"
      ],
      "metadata": {
        "id": "c_wXzMY-Pyip"
      },
      "execution_count": 19,
      "outputs": []
    },
    {
      "cell_type": "code",
      "source": [
        "# maximum tosses won by top 5 teams\n",
        "tw = df1.toss_winner.value_counts().sort_values(ascending=True)[6:11]\n",
        "ax2 = fig.add_subplot(gs[0, 1])\n",
        "ax2.barh(tw.index, tw.values, color=[\"#FFC107\", \"#2196F3\", \"#8BC34A\", \"#673AB7\", \"#F44336\"])\n",
        "ax2.set_xlabel(\"No of Matches\")\n",
        "ax2.set_ylabel(\"Teams\")\n",
        "ax2.set_title(\"TOSSES WON\")\n",
        "for i, v in enumerate(tw.values):\n",
        "    ax2.text(v-3.5, i, str(v), color='black', fontsize=10, va='center')\n",
        "#plt.show()"
      ],
      "metadata": {
        "id": "WgzwudxfTwgS"
      },
      "execution_count": 9,
      "outputs": []
    },
    {
      "cell_type": "code",
      "source": [
        "mw = dict(sorted(df1['winner'].value_counts().items(), key=lambda x: x[1], reverse=False)[6:11])\n",
        "color_list = ['#7b2cbf', '#a5579f', '#c78080', '#d6a268', '#dbc654']\n",
        "ax3 = fig.add_subplot(gs[0, 2])\n",
        "ax3.barh(list(mw.keys()), list(mw.values()), color=color_list)\n",
        "ax3.set_xlabel(\"No of Matches\")\n",
        "ax3.set_ylabel(\"Teams\")\n",
        "ax3.set_title(\"MATCHES WON\")\n",
        "for i, v in enumerate(mw.values()):\n",
        "    ax3.text(v + 0.5, i, str(v), color='black', fontweight='bold')\n",
        "#plt.show()"
      ],
      "metadata": {
        "id": "IjpDHGO7iCNX"
      },
      "execution_count": 10,
      "outputs": []
    },
    {
      "cell_type": "code",
      "source": [
        "# Top 7 grounds hosted IPL matches\n",
        "grd = df1['venue'].value_counts().sort_values().tail(7)\n",
        "\n",
        "# Plot bar chart\n",
        "\n",
        "#fig, ax = plt.subplots(figsize=(8, 5))\n",
        "colors = ['#7b2cbf', '#a5579f', '#c78080', '#d6a268', '#dbc654', '#a2c8ab', '#6bbba1']\n",
        "ax4 = fig.add_subplot(gs[1, :2])\n",
        "ax4.barh(grd.index, grd.values, color=colors)\n",
        "ax4.set_xlabel(\"No of Matches\")\n",
        "ax4.set_ylabel(\"City\")\n",
        "ax4.set_title(\"TOP 7 GROUNDS\")\n",
        "ax4.set_xlim([0, max(grd.values)+20])\n",
        "for i, v in enumerate(grd.values):\n",
        "    ax4.text(v-10, i, str(v), color='white', fontweight='bold', ha='right', va='center')\n",
        "\n",
        "#plt.show()"
      ],
      "metadata": {
        "id": "caUIEPIHiZwd"
      },
      "execution_count": 12,
      "outputs": []
    },
    {
      "cell_type": "code",
      "source": [
        "#top 10 player of the match\n",
        "tpl = dict(df1['player_of_match'].value_counts().sort_values(ascending=True)[217:227])\n",
        "ax5 = fig.add_subplot(gs[1, 2])\n",
        "ax5.barh(list(tpl.keys()), list(tpl.values()), color=['#6b3d92', '#9e9ac8', '#bcbddc', '#dadaeb', '#efedf5', '#fbb4b9', '#f768a1', '#c51b8a', '#7a0177', '#49006a'])\n",
        "ax5.set_xlabel(\"No of Times\")\n",
        "ax5.set_ylabel(\"Players\")\n",
        "ax5.set_title(\"TOP 10 PLAYER OF THE MATCH WINNERS\")\n",
        "for i, v in enumerate(tpl.values()):\n",
        "    ax5.text(v + 0.5, i - 0.15, str(v), color='black', fontweight='bold')\n"
      ],
      "metadata": {
        "id": "r5Sk_ix1E94H"
      },
      "execution_count": 13,
      "outputs": []
    },
    {
      "cell_type": "code",
      "source": [
        "# which team won most watches with the margin > 50runs\n",
        "ch = df1[df1['win_by_runs'] > 50]\n",
        "wbr = ch['winner'].value_counts().sort_values(ascending=False)[:8]\n",
        "ax6 = fig.add_subplot(gs[2, 0])\n",
        "ax6.barh(wbr.index, wbr.values, color=['#7b2cbf', '#a5579f', '#c78080', '#d6a268', '#dbc654', '#b8de6f', '#82b3e4', '#4c4c4c'])\n",
        "ax6.set_title(\"MATCHES WON WITH THE MARGIN > 50Runs\")\n",
        "ax6.set_xlabel(\"No of Matches\")\n",
        "ax6.set_ylabel(\"Teams\")\n",
        "for i, v in enumerate(wbr.values):\n",
        "    ax6.text(v+0.5, i, str(v), color='black', va=\"center\")\n",
        "\n"
      ],
      "metadata": {
        "id": "Dqm-VwhUFhyP"
      },
      "execution_count": 14,
      "outputs": []
    },
    {
      "cell_type": "code",
      "source": [
        "# margin > 5wickets\n",
        "ch1 = df1[df1['win_by_wickets'] > 5]\n",
        "wbw = ch1['winner'].value_counts().sort_values(ascending=False)[:8]\n",
        "ax7 = fig.add_subplot(gs[2, 1])\n",
        "ax7.barh(wbw.index, wbw.values, color=['#7b2cbf', '#a5579f', '#c78080', '#d6a268', '#dbc654', '#b8de6f', '#82b3e4', '#4c4c4c'])\n",
        "ax7.set_title(\"MATCHES WON WITH THE MARGIN > 5Wickets\")\n",
        "ax7.set_xlabel(\"No of Matches\")\n",
        "ax7.set_ylabel(\"Teams\")\n",
        "for i, v in enumerate(wbw.values):\n",
        "    ax7.text(v+0.5, i, str(v), color='black', va=\"center\")\n",
        "plt.show()"
      ],
      "metadata": {
        "id": "1jm_CGhuGpCX"
      },
      "execution_count": 17,
      "outputs": []
    },
    {
      "cell_type": "code",
      "source": [],
      "metadata": {
        "id": "DM2Iw3IxuHry"
      },
      "execution_count": null,
      "outputs": []
    }
  ]
}