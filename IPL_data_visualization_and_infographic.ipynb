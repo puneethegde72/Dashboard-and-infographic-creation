{
  "nbformat": 4,
  "nbformat_minor": 0,
  "metadata": {
    "colab": {
      "provenance": [],
      "authorship_tag": "ABX9TyNfNugqcsQm9eVwBtNdJQrp",
      "include_colab_link": true
    },
    "kernelspec": {
      "name": "python3",
      "display_name": "Python 3"
    },
    "language_info": {
      "name": "python"
    }
  },
  "cells": [
    {
      "cell_type": "markdown",
      "metadata": {
        "id": "view-in-github",
        "colab_type": "text"
      },
      "source": [
        "<a href=\"https://colab.research.google.com/github/puneethegde72/Dashboard-and-infographic-creation/blob/main/IPL_data_visualization_and_infographic.ipynb\" target=\"_parent\"><img src=\"https://colab.research.google.com/assets/colab-badge.svg\" alt=\"Open In Colab\"/></a>"
      ]
    },
    {
      "cell_type": "code",
      "execution_count": 74,
      "metadata": {
        "id": "tgwn3gpDN00I"
      },
      "outputs": [],
      "source": [
        "import pandas as pd\n",
        "import matplotlib.pyplot as plt\n",
        "import numpy as np\n",
        "from matplotlib.gridspec import GridSpec"
      ]
    },
    {
      "cell_type": "code",
      "source": [
        "# importing the dataset\n",
        "df = pd.read_csv(\"matches.csv\")\n",
        "print(df.dtypes)"
      ],
      "metadata": {
        "colab": {
          "base_uri": "https://localhost:8080/"
        },
        "id": "YjSpBsebOKrn",
        "outputId": "fd9de721-da33-41cb-a6be-5507b088f22a"
      },
      "execution_count": 75,
      "outputs": [
        {
          "output_type": "stream",
          "name": "stdout",
          "text": [
            "id                  int64\n",
            "Season             object\n",
            "city               object\n",
            "date               object\n",
            "team1              object\n",
            "team2              object\n",
            "toss_winner        object\n",
            "toss_decision      object\n",
            "result             object\n",
            "dl_applied          int64\n",
            "winner             object\n",
            "win_by_runs         int64\n",
            "win_by_wickets      int64\n",
            "player_of_match    object\n",
            "venue              object\n",
            "umpire1            object\n",
            "umpire2            object\n",
            "umpire3            object\n",
            "dtype: object\n"
          ]
        }
      ]
    },
    {
      "cell_type": "code",
      "source": [
        "# data cleansing\n",
        "df.loc[df['team1'] == \"Rising Pune Supergiants\", 'team1'] = \"Rising Pune Supergiant\"\n",
        "df.loc[df['team2'] == \"Rising Pune Supergiants\", 'team2'] = \"Rising Pune Supergiant\"\n",
        "df.loc[df['team1'] == \"Pune Warriors\", 'team1'] = \"Rising Pune Supergiant\"\n",
        "df.loc[df['team2'] == \"Pune Warriors\", 'team2'] = \"Rising Pune Supergiant\"\n",
        "df.loc[df['team1'] == \"Deccan Chargers\", 'team1'] = \"Sunrisers Hyderabad\"\n",
        "df.loc[df['team2'] == \"Deccan Chargers\", 'team2'] = \"Sunrisers Hyderabad\"\n",
        "df.loc[df['winner'] == \"Rising Pune Supergiants\", 'winner'] = \"Rising Pune Supergiant\"\n",
        "df.loc[df['winner'] == \"Pune Warriors\", 'winner'] = \"Rising Pune Supergiant\"\n",
        "df.loc[df['winner'] == \"Deccan Chargers\", 'winner'] = \"Sunrisers Hyderabad\"\n",
        "df.loc[df['winner'] == \"Delhi Daredevils\", 'winner'] = \"Delhi Capitals\"\n",
        "\n",
        "# removing the rows == no result\n",
        "df1 = df[df.result != \"no result\"]"
      ],
      "metadata": {
        "id": "BBux3Q_BOLY8"
      },
      "execution_count": 76,
      "outputs": []
    },
    {
      "cell_type": "code",
      "source": [
        "# IPL titles won\n",
        "index = [\"IPL-2008\", \"IPL-2009\", \"IPL-2010\", \"IPL-2011\", \"IPL-2012\", \"IPL-2013\", \"IPL-2014\", \"IPL-2015\",\n",
        "         \"IPL-2016\", \"IPL-2017\", \"IPL-2018\", \"IPL-2019\"]\n",
        "ipl_titles = [\"RR\", \"SRH\", \"CSK\", \"CSK\", \"KKR\", \"MI\", \"KKR\", \"MI\", \"SRH\", \"MI\", \"CSK\", \"MI\"]\n"
      ],
      "metadata": {
        "id": "0yv71zDYOaYV"
      },
      "execution_count": 77,
      "outputs": []
    },
    {
      "cell_type": "code",
      "source": [
        "count = pd.Series(ipl_titles).value_counts().sort_values(ascending=False)"
      ],
      "metadata": {
        "id": "0OSBqJH5Ovze"
      },
      "execution_count": 78,
      "outputs": []
    },
    {
      "cell_type": "code",
      "source": [
        "# Create the figure and GridSpec layout\n",
        "fig = plt.figure(figsize=(12, 10))\n",
        "gs = GridSpec(3, 3, figure=fig)"
      ],
      "metadata": {
        "colab": {
          "base_uri": "https://localhost:8080/",
          "height": 217
        },
        "id": "NmjOsndDrXKj",
        "outputId": "94d3aa32-75b4-4c74-aace-355b5f579292"
      },
      "execution_count": 87,
      "outputs": [
        {
          "output_type": "error",
          "ename": "TypeError",
          "evalue": "ignored",
          "traceback": [
            "\u001b[0;31m---------------------------------------------------------------------------\u001b[0m",
            "\u001b[0;31mTypeError\u001b[0m                                 Traceback (most recent call last)",
            "\u001b[0;32m<ipython-input-87-37b759200799>\u001b[0m in \u001b[0;36m<cell line: 3>\u001b[0;34m()\u001b[0m\n\u001b[1;32m      1\u001b[0m \u001b[0;31m# Create the figure and GridSpec layout\u001b[0m\u001b[0;34m\u001b[0m\u001b[0;34m\u001b[0m\u001b[0m\n\u001b[1;32m      2\u001b[0m \u001b[0mfig\u001b[0m \u001b[0;34m=\u001b[0m \u001b[0mplt\u001b[0m\u001b[0;34m.\u001b[0m\u001b[0mfigure\u001b[0m\u001b[0;34m(\u001b[0m\u001b[0mfigsize\u001b[0m\u001b[0;34m=\u001b[0m\u001b[0;34m(\u001b[0m\u001b[0;36m12\u001b[0m\u001b[0;34m,\u001b[0m \u001b[0;36m10\u001b[0m\u001b[0;34m)\u001b[0m\u001b[0;34m)\u001b[0m\u001b[0;34m\u001b[0m\u001b[0;34m\u001b[0m\u001b[0m\n\u001b[0;32m----> 3\u001b[0;31m \u001b[0mgs\u001b[0m \u001b[0;34m=\u001b[0m \u001b[0mgridspec\u001b[0m\u001b[0;34m(\u001b[0m\u001b[0;36m3\u001b[0m\u001b[0;34m,\u001b[0m \u001b[0;36m3\u001b[0m\u001b[0;34m,\u001b[0m \u001b[0mfigure\u001b[0m\u001b[0;34m=\u001b[0m\u001b[0mfig\u001b[0m\u001b[0;34m)\u001b[0m\u001b[0;34m\u001b[0m\u001b[0;34m\u001b[0m\u001b[0m\n\u001b[0m",
            "\u001b[0;31mTypeError\u001b[0m: 'module' object is not callable"
          ]
        },
        {
          "output_type": "display_data",
          "data": {
            "text/plain": [
              "<Figure size 1200x1000 with 0 Axes>"
            ]
          },
          "metadata": {}
        }
      ]
    },
    {
      "cell_type": "code",
      "source": [
        "ax1 = fig.add_subplot(gs[0, 0])\n",
        "ax1.bar(count.index, count.values, color=[\"#FFC107\", \"#2196F3\", \"#8BC34A\", \"#673AB7\", \"#F44336\"])\n",
        "ax1.set_xlabel(\"Teams\")\n",
        "ax1.set_ylabel(\"No of Times\")\n",
        "ax1.set_title(\"IPL TITLES WON\")\n"
      ],
      "metadata": {
        "id": "c_wXzMY-Pyip",
        "colab": {
          "base_uri": "https://localhost:8080/"
        },
        "outputId": "097b4faf-e613-42fe-d718-720e8b7faac3"
      },
      "execution_count": 88,
      "outputs": [
        {
          "output_type": "execute_result",
          "data": {
            "text/plain": [
              "Text(0.5, 1.0, 'IPL TITLES WON')"
            ]
          },
          "metadata": {},
          "execution_count": 88
        }
      ]
    },
    {
      "cell_type": "code",
      "source": [
        "# maximum tosses won by top 5 teams\n",
        "tw = df1.toss_winner.value_counts().sort_values(ascending=True)[6:11]\n",
        "ax2 = fig.add_subplot(gs[0, 1])\n",
        "ax2.barh(tw.index, tw.values, color=[\"#FFC107\", \"#2196F3\", \"#8BC34A\", \"#673AB7\", \"#F44336\"])\n",
        "ax2.set_xlabel(\"No of Matches\")\n",
        "ax2.set_ylabel(\"Teams\")\n",
        "ax2.set_title(\"TOSSES WON\")\n",
        "for i, v in enumerate(tw.values):\n",
        "    ax2.text(v-3.5, i, str(v), color='black', fontsize=10, va='center')\n",
        "#plt.show()"
      ],
      "metadata": {
        "id": "WgzwudxfTwgS"
      },
      "execution_count": 89,
      "outputs": []
    },
    {
      "cell_type": "code",
      "source": [
        "mw = dict(sorted(df1['winner'].value_counts().items(), key=lambda x: x[1], reverse=False)[6:11])\n",
        "color_list = ['#7b2cbf', '#a5579f', '#c78080', '#d6a268', '#dbc654']\n",
        "ax3 = fig.add_subplot(gs[0, 2])\n",
        "ax3.barh(list(mw.keys()), list(mw.values()), color=color_list)\n",
        "ax3.set_xlabel(\"No of Matches\")\n",
        "ax3.set_ylabel(\"Teams\")\n",
        "ax3.set_title(\"MATCHES WON\")\n",
        "for i, v in enumerate(mw.values()):\n",
        "    ax3.text(v + 0.5, i, str(v), color='black', fontweight='bold')\n",
        "#plt.show()"
      ],
      "metadata": {
        "id": "IjpDHGO7iCNX"
      },
      "execution_count": 90,
      "outputs": []
    },
    {
      "cell_type": "code",
      "source": [
        "# Top 7 grounds hosted IPL matches\n",
        "grd = df1['venue'].value_counts().sort_values().tail(7)\n",
        "\n",
        "# Plot bar chart\n",
        "\n",
        "#fig, ax = plt.subplots(figsize=(8, 5))\n",
        "colors = ['#7b2cbf', '#a5579f', '#c78080', '#d6a268', '#dbc654', '#a2c8ab', '#6bbba1']\n",
        "ax4 = fig.add_subplot(gs[1, :2])\n",
        "ax4.barh(grd.index, grd.values, color=colors)\n",
        "ax4.set_xlabel(\"No of Matches\")\n",
        "ax4.set_ylabel(\"City\")\n",
        "ax4.set_title(\"TOP 7 GROUNDS\")\n",
        "ax4.set_xlim([0, max(grd.values)+20])\n",
        "for i, v in enumerate(grd.values):\n",
        "    ax4.text(v-10, i, str(v), color='white', fontweight='bold', ha='right', va='center')\n",
        "\n",
        "#plt.show()"
      ],
      "metadata": {
        "id": "caUIEPIHiZwd"
      },
      "execution_count": 91,
      "outputs": []
    },
    {
      "cell_type": "code",
      "source": [
        "#top 10 player of the match\n",
        "tpl = dict(df1['player_of_match'].value_counts().sort_values(ascending=True)[217:227])\n",
        "ax5 = fig.add_subplot(gs[1, 2])\n",
        "ax5.barh(list(tpl.keys()), list(tpl.values()), color=['#6b3d92', '#9e9ac8', '#bcbddc', '#dadaeb', '#efedf5', '#fbb4b9', '#f768a1', '#c51b8a', '#7a0177', '#49006a'])\n",
        "ax5.set_xlabel(\"No of Times\")\n",
        "ax5.set_ylabel(\"Players\")\n",
        "ax5.set_title(\"TOP 10 PLAYER OF THE MATCH WINNERS\")\n",
        "for i, v in enumerate(tpl.values()):\n",
        "    ax5.text(v + 0.5, i - 0.15, str(v), color='black', fontweight='bold')\n"
      ],
      "metadata": {
        "id": "r5Sk_ix1E94H"
      },
      "execution_count": 84,
      "outputs": []
    },
    {
      "cell_type": "code",
      "source": [
        "\n",
        "plt.tight_layout()\n",
        "plt.show()"
      ],
      "metadata": {
        "colab": {
          "base_uri": "https://localhost:8080/",
          "height": 34
        },
        "id": "JjA-bRQk54Y5",
        "outputId": "7d5ff4ec-510e-4209-9c7c-3450f6bd7c4a"
      },
      "execution_count": 85,
      "outputs": [
        {
          "output_type": "display_data",
          "data": {
            "text/plain": [
              "<Figure size 640x480 with 0 Axes>"
            ]
          },
          "metadata": {}
        }
      ]
    },
    {
      "cell_type": "code",
      "source": [
        "plt.savefig('my_dashboard.png')"
      ],
      "metadata": {
        "colab": {
          "base_uri": "https://localhost:8080/",
          "height": 34
        },
        "id": "bTa174-m57Bu",
        "outputId": "31b921b8-ebd5-4190-b5f9-d95cc1c8d769"
      },
      "execution_count": 86,
      "outputs": [
        {
          "output_type": "display_data",
          "data": {
            "text/plain": [
              "<Figure size 640x480 with 0 Axes>"
            ]
          },
          "metadata": {}
        }
      ]
    },
    {
      "cell_type": "code",
      "source": [],
      "metadata": {
        "id": "p52_RnQf9opZ"
      },
      "execution_count": null,
      "outputs": []
    }
  ]
}