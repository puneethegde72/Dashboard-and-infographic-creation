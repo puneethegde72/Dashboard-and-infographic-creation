{
  "nbformat": 4,
  "nbformat_minor": 0,
  "metadata": {
    "colab": {
      "provenance": [],
      "authorship_tag": "ABX9TyM0UaZ88QGwLisOou/jDj09",
      "include_colab_link": true
    },
    "kernelspec": {
      "name": "python3",
      "display_name": "Python 3"
    },
    "language_info": {
      "name": "python"
    }
  },
  "cells": [
    {
      "cell_type": "markdown",
      "metadata": {
        "id": "view-in-github",
        "colab_type": "text"
      },
      "source": [
        "<a href=\"https://colab.research.google.com/github/puneethegde72/Dashboard-and-infographic-creation/blob/main/IPL_data_visualization_and_infographic.ipynb\" target=\"_parent\"><img src=\"https://colab.research.google.com/assets/colab-badge.svg\" alt=\"Open In Colab\"/></a>"
      ]
    },
    {
      "cell_type": "code",
      "execution_count": 1,
      "metadata": {
        "id": "tgwn3gpDN00I"
      },
      "outputs": [],
      "source": [
        "\n",
        "import pandas as pd\n",
        "\n"
      ]
    },
    {
      "cell_type": "code",
      "source": [
        "df = pd.read_csv(\"matches.csv\")\n",
        "print(df.info())"
      ],
      "metadata": {
        "colab": {
          "base_uri": "https://localhost:8080/"
        },
        "id": "YjSpBsebOKrn",
        "outputId": "6aff781d-64ee-4f64-8376-44f579c21f84"
      },
      "execution_count": 2,
      "outputs": [
        {
          "output_type": "stream",
          "name": "stdout",
          "text": [
            "<class 'pandas.core.frame.DataFrame'>\n",
            "RangeIndex: 756 entries, 0 to 755\n",
            "Data columns (total 18 columns):\n",
            " #   Column           Non-Null Count  Dtype \n",
            "---  ------           --------------  ----- \n",
            " 0   id               756 non-null    int64 \n",
            " 1   Season           756 non-null    object\n",
            " 2   city             749 non-null    object\n",
            " 3   date             756 non-null    object\n",
            " 4   team1            756 non-null    object\n",
            " 5   team2            756 non-null    object\n",
            " 6   toss_winner      756 non-null    object\n",
            " 7   toss_decision    756 non-null    object\n",
            " 8   result           756 non-null    object\n",
            " 9   dl_applied       756 non-null    int64 \n",
            " 10  winner           752 non-null    object\n",
            " 11  win_by_runs      756 non-null    int64 \n",
            " 12  win_by_wickets   756 non-null    int64 \n",
            " 13  player_of_match  752 non-null    object\n",
            " 14  venue            756 non-null    object\n",
            " 15  umpire1          754 non-null    object\n",
            " 16  umpire2          754 non-null    object\n",
            " 17  umpire3          119 non-null    object\n",
            "dtypes: int64(4), object(14)\n",
            "memory usage: 106.4+ KB\n",
            "None\n"
          ]
        }
      ]
    },
    {
      "cell_type": "code",
      "source": [
        "# Cleanse team names\n",
        "df.replace({\"Rising Pune Supergiants\": \"Rising Pune Supergiant\",\n",
        "            \"Pune Warriors\": \"Rising Pune Supergiant\",\n",
        "            \"Deccan Chargers\": \"Sunrisers Hyderabad\",\n",
        "            \"Delhi Daredevils\": \"Delhi Capitals\"},\n",
        "           inplace=True)\n",
        "\n",
        "# Remove rows with no result\n",
        "df1 = df[df[\"result\"] != \"no result\"]\n",
        "print(df1.info())"
      ],
      "metadata": {
        "colab": {
          "base_uri": "https://localhost:8080/"
        },
        "id": "BBux3Q_BOLY8",
        "outputId": "f8d64778-64e0-4531-b2ad-01e2e167960e"
      },
      "execution_count": 3,
      "outputs": [
        {
          "output_type": "stream",
          "name": "stdout",
          "text": [
            "<class 'pandas.core.frame.DataFrame'>\n",
            "Int64Index: 752 entries, 0 to 755\n",
            "Data columns (total 18 columns):\n",
            " #   Column           Non-Null Count  Dtype \n",
            "---  ------           --------------  ----- \n",
            " 0   id               752 non-null    int64 \n",
            " 1   Season           752 non-null    object\n",
            " 2   city             745 non-null    object\n",
            " 3   date             752 non-null    object\n",
            " 4   team1            752 non-null    object\n",
            " 5   team2            752 non-null    object\n",
            " 6   toss_winner      752 non-null    object\n",
            " 7   toss_decision    752 non-null    object\n",
            " 8   result           752 non-null    object\n",
            " 9   dl_applied       752 non-null    int64 \n",
            " 10  winner           752 non-null    object\n",
            " 11  win_by_runs      752 non-null    int64 \n",
            " 12  win_by_wickets   752 non-null    int64 \n",
            " 13  player_of_match  752 non-null    object\n",
            " 14  venue            752 non-null    object\n",
            " 15  umpire1          750 non-null    object\n",
            " 16  umpire2          750 non-null    object\n",
            " 17  umpire3          118 non-null    object\n",
            "dtypes: int64(4), object(14)\n",
            "memory usage: 111.6+ KB\n",
            "None\n"
          ]
        }
      ]
    },
    {
      "cell_type": "code",
      "source": [],
      "metadata": {
        "id": "0yv71zDYOaYV"
      },
      "execution_count": null,
      "outputs": []
    }
  ]
}